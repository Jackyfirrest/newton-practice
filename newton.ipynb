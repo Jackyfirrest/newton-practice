{
 "cells": [
  {
   "cell_type": "code",
   "execution_count": 1,
   "id": "1d41a4d1",
   "metadata": {},
   "outputs": [],
   "source": [
    "import numpy"
   ]
  },
  {
   "cell_type": "code",
   "execution_count": 2,
   "id": "3c0ce5a5",
   "metadata": {},
   "outputs": [],
   "source": [
    "def finite_difference_first(f, x, eps=1e-5):\n",
    "    return (f(x + eps) - f (x)) / (eps)\n",
    "\n",
    "def finite_difference_second(f, x, eps=1e-5):\n",
    "    return (finite_difference_first(f, x + eps) - finite_difference_first(f, x)) / (eps)"
   ]
  },
  {
   "cell_type": "code",
   "execution_count": null,
   "id": "009862c0",
   "metadata": {},
   "outputs": [],
   "source": [
    "def newton_method(f, x0, tol=1e-6, iteration=100):\n",
    "    x = x0\n",
    "    for i in range(iteration):\n",
    "        first_derivatives = finite_difference_first(f, x)\n",
    "        second_derivatives = finite_difference_second(f, x)\n",
    "        if abs(first_derivatives) < 1e-10:\n",
    "            print(\"stop iteration\")\n",
    "            break\n",
    "        x_t = x - first_derivatives / second_derivatives\n",
    "        if abs(x_t - x) < tol:\n",
    "            return x_t\n",
    "        x = x_t\n",
    "    return x\n",
    "            "
   ]
  }
 ],
 "metadata": {
  "kernelspec": {
   "display_name": "base",
   "language": "python",
   "name": "python3"
  },
  "language_info": {
   "codemirror_mode": {
    "name": "ipython",
    "version": 3
   },
   "file_extension": ".py",
   "mimetype": "text/x-python",
   "name": "python",
   "nbconvert_exporter": "python",
   "pygments_lexer": "ipython3",
   "version": "3.11.4"
  }
 },
 "nbformat": 4,
 "nbformat_minor": 5
}
